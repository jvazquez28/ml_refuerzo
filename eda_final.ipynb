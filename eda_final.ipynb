{
 "cells": [
  {
   "cell_type": "markdown",
   "metadata": {},
   "source": [
    "# PROYECTO REFUERZO\n",
    "\n",
    "## Jorge Vázquez\n",
    "\n",
    "--------"
   ]
  },
  {
   "cell_type": "markdown",
   "metadata": {},
   "source": [
    "### Exploratory Data Analysis\n",
    "\n",
    "Se utilizaron varios enfoques de EDA y se regresó a este paso multiples veces debido a que los resultados de los modelos eran malos.\n",
    "\n",
    "Finalmente y dado que los resultados no mejoraron, se tuvo que poner un límite al proceso de análisis exploratorio de datos para poder continuar con las otras fases del proyecto.\n",
    "\n",
    "El EDA que finalmente utilice une PCA con correlación de las características respecto a la variable objetivo. Al final, este análisis concluye que no hay que eliminar características."
   ]
  },
  {
   "cell_type": "markdown",
   "metadata": {},
   "source": [
    "### Análisis de Componentes Principales PCA"
   ]
  },
  {
   "cell_type": "code",
   "execution_count": 9,
   "metadata": {},
   "outputs": [
    {
     "name": "stdout",
     "output_type": "stream",
     "text": [
      "Principal Component Analysis Features:\n",
      "      region    tenure       age   marital   address    income        ed  \\\n",
      "0   0.027124  0.390336  0.493667 -0.046938  0.436790  0.270533 -0.133256   \n",
      "1  -0.135935  0.238601  0.012564  0.697244  0.037353  0.045162 -0.025407   \n",
      "2  -0.029830  0.028389 -0.061271 -0.068562 -0.076318  0.660145  0.533595   \n",
      "3   0.685614  0.003758 -0.081715  0.018071 -0.085109  0.076055 -0.162254   \n",
      "4  -0.494585 -0.052248  0.041824 -0.004859  0.040975 -0.092979  0.422369   \n",
      "5   0.511120  0.082633  0.101899  0.127155  0.158859 -0.168605  0.652695   \n",
      "6   0.050113 -0.503582  0.082105  0.016771 -0.416124  0.372611 -0.041534   \n",
      "7  -0.022698  0.680953 -0.287470 -0.163442 -0.573498 -0.084402  0.068184   \n",
      "8  -0.021299  0.102589 -0.346916 -0.541801  0.387299  0.219254 -0.073172   \n",
      "9   0.013895 -0.141855  0.314044 -0.367211 -0.088016 -0.475934  0.209552   \n",
      "10 -0.017290  0.179971  0.652086 -0.187195 -0.328679  0.159922 -0.102467   \n",
      "\n",
      "      employ    retire    gender    reside  \n",
      "0   0.467417  0.260195  0.023410 -0.180369  \n",
      "1   0.096613 -0.093473  0.025057  0.644597  \n",
      "2   0.129328 -0.493007  0.028089 -0.054205  \n",
      "3   0.056513 -0.048626  0.687164  0.076215  \n",
      "4  -0.080597  0.366677  0.648712 -0.019697  \n",
      "5  -0.204094  0.324349 -0.275483  0.054340  \n",
      "6   0.293863  0.519129 -0.151313  0.210717  \n",
      "7   0.202264  0.201966 -0.055403 -0.031492  \n",
      "8  -0.160978  0.174164 -0.036491  0.560461  \n",
      "9   0.481569 -0.307534  0.022143  0.375591  \n",
      "10 -0.564826 -0.057365  0.036536  0.198231  \n"
     ]
    }
   ],
   "source": [
    "import pandas as pd\n",
    "import numpy as np\n",
    "from sklearn.decomposition import PCA\n",
    "from sklearn.preprocessing import StandardScaler\n",
    "\n",
    "# Load the CSV file into a DataFrame\n",
    "df = pd.read_csv('dev/data/telecust1000t.csv')\n",
    "\n",
    "# Standardize the data\n",
    "scaler = StandardScaler()\n",
    "scaled_data = scaler.fit_transform(df)\n",
    "\n",
    "# Exclude the target variable 'custcat' from the features\n",
    "features = df.drop(columns=['custcat']).columns\n",
    "\n",
    "# Standardize the data excluding the target variable\n",
    "scaled_data = scaler.fit_transform(df.drop(columns=['custcat']))\n",
    "\n",
    "# Perform PCA\n",
    "pca = PCA()\n",
    "pca.fit(scaled_data)\n",
    "\n",
    "# Get the principal components\n",
    "principal_components = pca.components_\n",
    "\n",
    "# List the features identified as PCA\n",
    "pca_features = pd.DataFrame(principal_components, columns=features)\n",
    "\n",
    "print(\"Principal Component Analysis Features:\")\n",
    "print(pca_features)"
   ]
  },
  {
   "cell_type": "markdown",
   "metadata": {},
   "source": [
    "### Listado de características por Componente Principal\n",
    "\n",
    "El Threshold se estableció en |0.3| aunque otro threshold utilizado comunmente es |0.4|\n",
    "Valores por debajo del threshold contribuyen debilmente al componente."
   ]
  },
  {
   "cell_type": "code",
   "execution_count": 10,
   "metadata": {},
   "outputs": [
    {
     "name": "stdout",
     "output_type": "stream",
     "text": [
      "\n",
      "Principal Component 1 significant features:\n",
      "tenure: 0.390\n",
      "age: 0.494\n",
      "address: 0.437\n",
      "employ: 0.467\n",
      "\n",
      "Principal Component 2 significant features:\n",
      "marital: 0.697\n",
      "reside: 0.645\n",
      "\n",
      "Principal Component 3 significant features:\n",
      "income: 0.660\n",
      "ed: 0.534\n",
      "retire: -0.493\n",
      "\n",
      "Principal Component 4 significant features:\n",
      "region: 0.686\n",
      "gender: 0.687\n",
      "\n",
      "Principal Component 5 significant features:\n",
      "region: -0.495\n",
      "ed: 0.422\n",
      "retire: 0.367\n",
      "gender: 0.649\n",
      "\n",
      "Principal Component 6 significant features:\n",
      "region: 0.511\n",
      "ed: 0.653\n",
      "retire: 0.324\n",
      "\n",
      "Principal Component 7 significant features:\n",
      "tenure: -0.504\n",
      "address: -0.416\n",
      "income: 0.373\n",
      "retire: 0.519\n",
      "\n",
      "Principal Component 8 significant features:\n",
      "tenure: 0.681\n",
      "address: -0.573\n",
      "\n",
      "Principal Component 9 significant features:\n",
      "age: -0.347\n",
      "marital: -0.542\n",
      "address: 0.387\n",
      "reside: 0.560\n",
      "\n",
      "Principal Component 10 significant features:\n",
      "age: 0.314\n",
      "marital: -0.367\n",
      "income: -0.476\n",
      "employ: 0.482\n",
      "retire: -0.308\n",
      "reside: 0.376\n",
      "\n",
      "Principal Component 11 significant features:\n",
      "age: 0.652\n",
      "address: -0.329\n",
      "employ: -0.565\n"
     ]
    }
   ],
   "source": [
    "# Set threshold\n",
    "THRESHOLD = 0.3\n",
    "\n",
    "# Create mask for significant loadings\n",
    "significant_loadings = np.abs(pca_features) >= THRESHOLD\n",
    "\n",
    "# Print significant features for each PC\n",
    "for pc_idx in range(len(pca_features)):\n",
    "    print(f\"\\nPrincipal Component {pc_idx + 1} significant features:\")\n",
    "    significant_features = features[significant_loadings.iloc[pc_idx]]\n",
    "    significant_values = pca_features.iloc[pc_idx][significant_loadings.iloc[pc_idx]]\n",
    "    for feat, val in zip(significant_features, significant_values):\n",
    "        print(f\"{feat}: {val:.3f}\")"
   ]
  },
  {
   "cell_type": "markdown",
   "metadata": {},
   "source": [
    "### Resumen de características identificadas como útiles por el PCA\n",
    "\n",
    "Básicamente todas las características pueden considerarse útiles desde la perspectiva del PCA aunque su presencia en los diferentes componentes fluctúa.\n",
    "\n",
    "Las más útiles son:\n",
    "address (5)\n",
    "age (4)\n",
    "\n",
    "La menos útil es:\n",
    "gender (2)\n",
    "\n",
    "Si alguna feature sólo hubiera sido relevante en 1 PC, habría sido útil descartarla.\n"
   ]
  },
  {
   "cell_type": "code",
   "execution_count": 11,
   "metadata": {},
   "outputs": [
    {
     "name": "stdout",
     "output_type": "stream",
     "text": [
      "Number of times each feature appears significantly (|loading| >= 0.3):\n",
      "region     3\n",
      "tenure     3\n",
      "age        4\n",
      "marital    3\n",
      "address    5\n",
      "income     3\n",
      "ed         3\n",
      "employ     3\n",
      "retire     5\n",
      "gender     2\n",
      "reside     3\n",
      "dtype: int64\n",
      "\n",
      "Features with low significance (appear significantly <= 1 times):\n",
      "[]\n"
     ]
    }
   ],
   "source": [
    "# Set threshold\n",
    "THRESHOLD = 0.3\n",
    "\n",
    "# Count significant appearances for each feature\n",
    "significant_counts = (np.abs(pca_features) >= THRESHOLD).sum()\n",
    "\n",
    "print(\"Number of times each feature appears significantly (|loading| >= 0.3):\")\n",
    "print(significant_counts)\n",
    "\n",
    "# Identify features with low significance\n",
    "low_significance = significant_counts[significant_counts <= 1].index.tolist()\n",
    "print(\"\\nFeatures with low significance (appear significantly <= 1 times):\")\n",
    "print(low_significance)"
   ]
  },
  {
   "cell_type": "markdown",
   "metadata": {},
   "source": [
    "### Análisis de Correlación y unión de este análisis con PCA para definir \"finalistas\"\n",
    "\n",
    "Spoiler: Aunque el aporte de algunas características es mínimo, eliminarlas reduce la métrica baseline por lo que se determino no eliminar ninguna feature pero al menos se hizo después de un análisis extenso del dataset."
   ]
  },
  {
   "cell_type": "code",
   "execution_count": 12,
   "metadata": {},
   "outputs": [
    {
     "data": {
      "image/png": "[encoded data removed]",
      "text/plain": [
       "<Figure size 1200x600 with 2 Axes>"
      ]
     },
     "metadata": {},
     "output_type": "display_data"
    },
    {
     "name": "stdout",
     "output_type": "stream",
     "text": [
      "\n",
      "Feature Analysis Summary:\n",
      "         Correlation  PCA_Appearances\n",
      "ed          0.193864                3\n",
      "tenure      0.166691                3\n",
      "income      0.134525                3\n",
      "employ      0.110011                3\n",
      "marital     0.083836                3\n",
      "reside      0.082022                3\n",
      "address     0.067913                5\n",
      "age         0.056909                4\n",
      "region      0.023771                3\n",
      "retire      0.008908                5\n",
      "gender      0.004966                2\n",
      "\n",
      "Recommended features to keep:\n",
      "['region', 'tenure', 'age', 'marital', 'address', 'income', 'ed', 'employ', 'retire', 'gender', 'reside']\n"
     ]
    }
   ],
   "source": [
    "import seaborn as sns\n",
    "import matplotlib.pyplot as plt\n",
    "\n",
    "from sklearn.model_selection import train_test_split\n",
    "from sklearn.linear_model import LogisticRegression\n",
    "from sklearn.metrics import accuracy_score\n",
    "\n",
    "# 1. Correlation Analysis\n",
    "def analyze_features(df, target='custcat', pca_features=pca_features, threshold_pca=0.3, threshold_corr=0.1):\n",
    "    # Calculate correlations\n",
    "    correlations = df.corr()[target].drop(target)\n",
    "    \n",
    "    # Count significant PCA loadings\n",
    "    pca_significance = (np.abs(pca_features) >= threshold_pca).sum()\n",
    "    \n",
    "    # Combine metrics\n",
    "    feature_analysis = pd.DataFrame({\n",
    "        'Correlation': correlations.abs(),\n",
    "        'PCA_Appearances': pca_significance\n",
    "    })\n",
    "    \n",
    "    # Plot\n",
    "    plt.figure(figsize=(12, 6))\n",
    "    \n",
    "    # Correlation plot\n",
    "    plt.subplot(1, 2, 1)\n",
    "    sns.barplot(x=feature_analysis.index, \n",
    "                y='Correlation', \n",
    "                data=feature_analysis)\n",
    "    plt.xticks(rotation=45)\n",
    "    plt.title('Absolute Correlation with Target')\n",
    "    \n",
    "    # PCA significance plot\n",
    "    plt.subplot(1, 2, 2)\n",
    "    sns.barplot(x=feature_analysis.index, \n",
    "                y='PCA_Appearances', \n",
    "                data=feature_analysis)\n",
    "    plt.xticks(rotation=45)\n",
    "    plt.title('Number of Significant PCA Appearances')\n",
    "    \n",
    "    plt.tight_layout()\n",
    "    plt.show()\n",
    "    \n",
    "    # Feature selection recommendation\n",
    "    important_features = feature_analysis[\n",
    "        (feature_analysis['Correlation'] >= threshold_corr) | \n",
    "        (feature_analysis['PCA_Appearances'] >= 2)\n",
    "    ].index.tolist()\n",
    "    \n",
    "    print(\"\\nFeature Analysis Summary:\")\n",
    "    print(feature_analysis.sort_values('Correlation', ascending=False))\n",
    "    print(\"\\nRecommended features to keep:\")\n",
    "    print(important_features)\n",
    "    \n",
    "    return important_features\n",
    "\n",
    "# Run analysis\n",
    "important_features = analyze_features(df)\n"
   ]
  },
  {
   "cell_type": "code",
   "execution_count": 17,
   "metadata": {},
   "outputs": [
    {
     "name": "stdout",
     "output_type": "stream",
     "text": [
      "<class 'pandas.core.frame.DataFrame'>\n",
      "RangeIndex: 1000 entries, 0 to 999\n",
      "Data columns (total 12 columns):\n",
      " #   Column   Non-Null Count  Dtype  \n",
      "---  ------   --------------  -----  \n",
      " 0   region   1000 non-null   int64  \n",
      " 1   tenure   1000 non-null   int64  \n",
      " 2   age      1000 non-null   int64  \n",
      " 3   marital  1000 non-null   int64  \n",
      " 4   address  1000 non-null   int64  \n",
      " 5   income   1000 non-null   float64\n",
      " 6   ed       1000 non-null   int64  \n",
      " 7   employ   1000 non-null   int64  \n",
      " 8   retire   1000 non-null   float64\n",
      " 9   gender   1000 non-null   int64  \n",
      " 10  reside   1000 non-null   int64  \n",
      " 11  custcat  1000 non-null   int64  \n",
      "dtypes: float64(2), int64(10)\n",
      "memory usage: 93.9 KB\n"
     ]
    }
   ],
   "source": [
    "df.info()"
   ]
  },
  {
   "cell_type": "markdown",
   "metadata": {},
   "source": [
    "### Función de comparación de modelos\n",
    "\n",
    "Básicamente esta función prepara las muestras de train y test tanto sin reducción de características como con reducción aunque la decisión fue no eliminar ninguna feature así que el accuracy del modelo completo y del modelo \"reducido\" son iguales."
   ]
  },
  {
   "cell_type": "code",
   "execution_count": 13,
   "metadata": {},
   "outputs": [],
   "source": [
    "# Compare performances\n",
    "def compare_models(X, X_reduced, y):\n",
    "    X_train, X_test, y_train, y_test = train_test_split(X, y, test_size=0.2, random_state=42)\n",
    "    X_red_train, X_red_test = X_reduced.loc[X_train.index], X_reduced.loc[X_test.index]\n",
    "    \n",
    "    # Full model\n",
    "    model_full = LogisticRegression()\n",
    "    model_full.fit(X_train, y_train)\n",
    "    acc_full = accuracy_score(y_test, model_full.predict(X_test))\n",
    "    \n",
    "    # Reduced model\n",
    "    model_red = LogisticRegression()\n",
    "    model_red.fit(X_red_train, y_train)\n",
    "    acc_red = accuracy_score(y_test, model_red.predict(X_red_test))\n",
    "    \n",
    "    print(f\"Full model accuracy: {acc_full:.4f}\")\n",
    "    print(f\"Reduced model accuracy: {acc_red:.4f}\")"
   ]
  },
  {
   "cell_type": "markdown",
   "metadata": {},
   "source": [
    "### Ejecución del modelo básico para comparación de versión completa de features contra la versión reducida."
   ]
  },
  {
   "cell_type": "code",
   "execution_count": 14,
   "metadata": {},
   "outputs": [
    {
     "name": "stdout",
     "output_type": "stream",
     "text": [
      "Full model accuracy: 0.4200\n",
      "Reduced model accuracy: 0.4200\n"
     ]
    },
    {
     "name": "stderr",
     "output_type": "stream",
     "text": [
      "c:\\Users\\jvazq\\Data_Analysis_Tools\\anaconda3\\envs\\ml_refuerzo\\lib\\site-packages\\sklearn\\linear_model\\_logistic.py:469: ConvergenceWarning: lbfgs failed to converge (status=1):\n",
      "STOP: TOTAL NO. of ITERATIONS REACHED LIMIT.\n",
      "\n",
      "Increase the number of iterations (max_iter) or scale the data as shown in:\n",
      "    https://scikit-learn.org/stable/modules/preprocessing.html\n",
      "Please also refer to the documentation for alternative solver options:\n",
      "    https://scikit-learn.org/stable/modules/linear_model.html#logistic-regression\n",
      "  n_iter_i = _check_optimize_result(\n",
      "c:\\Users\\jvazq\\Data_Analysis_Tools\\anaconda3\\envs\\ml_refuerzo\\lib\\site-packages\\sklearn\\linear_model\\_logistic.py:469: ConvergenceWarning: lbfgs failed to converge (status=1):\n",
      "STOP: TOTAL NO. of ITERATIONS REACHED LIMIT.\n",
      "\n",
      "Increase the number of iterations (max_iter) or scale the data as shown in:\n",
      "    https://scikit-learn.org/stable/modules/preprocessing.html\n",
      "Please also refer to the documentation for alternative solver options:\n",
      "    https://scikit-learn.org/stable/modules/linear_model.html#logistic-regression\n",
      "  n_iter_i = _check_optimize_result(\n"
     ]
    }
   ],
   "source": [
    "# Baseline model (all features)\n",
    "X = df.drop('custcat', axis=1)\n",
    "y = df['custcat']\n",
    "\n",
    "# Create model with selected features\n",
    "X_selected = df[important_features]\n",
    "y = df['custcat']\n",
    "\n",
    "# Compare performance\n",
    "compare_models(X, X_selected, y)"
   ]
  },
  {
   "cell_type": "markdown",
   "metadata": {},
   "source": [
    "Nota: Estos warnings fueron ignorados porque solo se buscaba una comparación de features."
   ]
  },
  {
   "cell_type": "markdown",
   "metadata": {},
   "source": [
    "### Generación de datos sintéticos para probar modelos"
   ]
  },
  {
   "cell_type": "code",
   "execution_count": 19,
   "metadata": {},
   "outputs": [
    {
     "name": "stdout",
     "output_type": "stream",
     "text": [
      "Test data shape: (200, 11)\n",
      "\n",
      "Test data preview:\n",
      "   region  tenure  age  marital  address  income  ed  employ  retire  gender  \\\n",
      "0       2      50   36        1       48  1268.0   1      30     1.0       1   \n",
      "1       2      12   37        0       21  1124.0   1      15     1.0       1   \n",
      "2       2      43   19        1       12   902.0   3      20     1.0       1   \n",
      "3       1      52   53        1        3   151.0   3      27     0.0       0   \n",
      "4       2      10   21        1        4  1557.0   4      37     0.0       0   \n",
      "\n",
      "   reside  \n",
      "0       4  \n",
      "1       4  \n",
      "2       1  \n",
      "3       1  \n",
      "4       2  \n",
      "\n",
      "Data types:\n",
      "region       int32\n",
      "tenure       int32\n",
      "age          int32\n",
      "marital      int32\n",
      "address      int32\n",
      "income     float64\n",
      "ed           int32\n",
      "employ       int32\n",
      "retire     float64\n",
      "gender       int32\n",
      "reside       int32\n",
      "dtype: object\n"
     ]
    }
   ],
   "source": [
    "import pandas as pd\n",
    "import numpy as np\n",
    "\n",
    "# Read original data to get structure\n",
    "df = pd.read_csv('dev/data/telecust1000t.csv')\n",
    "\n",
    "# Create test data without 'custcat'\n",
    "test_data = df.drop('custcat', axis=1).copy()\n",
    "\n",
    "# Convert 'retire' column to int64\n",
    "df['retire'] = df['retire'].astype('int64')\n",
    "\n",
    "# Optional: Generate more synthetic records\n",
    "def generate_synthetic_records(base_df, n_records=100):\n",
    "    synthetic_data = pd.DataFrame()\n",
    "    \n",
    "    for column in base_df.columns:\n",
    "        min_val = base_df[column].min()\n",
    "        max_val = base_df[column].max()\n",
    "        \n",
    "        if base_df[column].dtype in ['int64', 'float64']:\n",
    "            # For numeric columns\n",
    "            synthetic_data[column] = np.random.uniform(min_val, max_val, n_records)\n",
    "            \n",
    "            # Round to match original data type\n",
    "            if base_df[column].dtype == 'int64':\n",
    "                synthetic_data[column] = synthetic_data[column].round().astype(int)\n",
    "            if base_df[column].dtype == 'float64':\n",
    "                synthetic_data[column] = synthetic_data[column].round().astype(float)\n",
    "        else:\n",
    "            # For categorical columns\n",
    "            synthetic_data[column] = np.random.choice(base_df[column].unique(), n_records)\n",
    "    \n",
    "    return synthetic_data\n",
    "\n",
    "# Generate synthetic test data\n",
    "test_data_synthetic = generate_synthetic_records(test_data, n_records=200)\n",
    "\n",
    "# Save to CSV\n",
    "test_data_synthetic.to_csv('dev/data/test_data_nocustcat.csv', index=False)\n",
    "\n",
    "print(\"Test data shape:\", test_data_synthetic.shape)\n",
    "print(\"\\nTest data preview:\")\n",
    "print(test_data_synthetic.head())\n",
    "print(\"\\nData types:\")\n",
    "print(test_data_synthetic.dtypes)"
   ]
  }
 ],
 "metadata": {
  "kernelspec": {
   "display_name": "ml_refuerzo",
   "language": "python",
   "name": "python3"
  },
  "language_info": {
   "codemirror_mode": {
    "name": "ipython",
    "version": 3
   },
   "file_extension": ".py",
   "mimetype": "text/x-python",
   "name": "python",
   "nbconvert_exporter": "python",
   "pygments_lexer": "ipython3",
   "version": "3.9.15"
  }
 },
 "nbformat": 4,
 "nbformat_minor": 2
}
